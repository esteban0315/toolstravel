{
 "cells": [
  {
   "cell_type": "markdown",
   "metadata": {},
   "source": [
    "# SISTEMA EXPERTO BASADO EN REGLAS DIFUSAS"
   ]
  },
  {
   "cell_type": "markdown",
   "metadata": {},
   "source": [
    "## TOOLS TRAVEL"
   ]
  },
  {
   "cell_type": "markdown",
   "metadata": {},
   "source": [
    "A continuación se plantea un sistema de control difuso donde según, el hotel recomendado y la comida dada en promocion por ese hotel se asigna una calificación de satisfacción y un porcentaje de recomendación para los futuros viajeros.\n",
    "\n",
    "También se plantea calificar el destino turistico recomendado en base a su atractivo y tiempo de llegada desde el hotel de alojamiento. \n",
    "\n",
    "Estas calificaciones van de 0 a 10 y los usuarios pueden medir su nivel de satisfacción entre 0 y 100%\n"
   ]
  },
  {
   "cell_type": "markdown",
   "metadata": {},
   "source": [
    "### Entradas (Antecedentes)\n",
    "\n",
    "#### Hotel recomendado\n",
    "    Universo: definido entre 0 y 10\n",
    "    Conjunto borroso: bueno,regular,malo\n",
    "    \n",
    "#### Comida en promoción\n",
    "    Universo: definido entre 0 y 10\n",
    "    Conjunto borroso: buena,regular,mala\n",
    "    \n",
    "#### Destino recomendado\n",
    "    Universo: definido entre 0 y 10\n",
    "    Conjunto borroso: bueno,regular,malo\n",
    "\n",
    "#### Cercania con hotel\n",
    "    Universo: definido entre 0 y 10\n",
    "    Conjunto borroso: mínima,cercana,amplia"
   ]
  },
  {
   "cell_type": "markdown",
   "metadata": {},
   "source": [
    "### Salidas (Consecuentes)\n",
    "\n",
    "\n",
    "#### Nivel de satisfacción\n",
    "\n",
    "    Universo: escalado entre 0 y 100%\n",
    "    Conjunto borroso: alta,mediana,baja\n",
    "\n",
    "#### Recomendación destino turistico\n",
    "\n",
    "    Universo: escalado entre 0 y 100%\n",
    "    Conjunto borroso: alta,mediana,baja"
   ]
  },
  {
   "cell_type": "markdown",
   "metadata": {},
   "source": [
    "### Reglas\n",
    "\n",
    "-> SI el hotel recomendado era bueno o la comida en promoción era buena, ENTONCES el nivel de satisfacción sera ALTO.\n",
    "\n",
    "-> SI el hotel recomendado era regular, ENTONCES el nivel de satisfacción sera MEDIO.\n",
    "\n",
    "-> SI el hotel recomendado era malo o la comida en promoción era mala, ENTONCES el nivel de satisfacción sera BAJA.\n",
    "\n",
    "-> SI el destino recomendado era bueno o la cercania con hotel era mínima, ENTONCES el nivel de recomendacion sera ALTO.\n",
    "\n",
    "-> SI el destino recomendado era regular, ENTONCES el nivel de recomendacion sera MEDIO.\n",
    "\n",
    "-> SI el destino recomendado era malo o la cercania con hotel era amplia, ENTONCES el nivel de recomendacion sera BAJO."
   ]
  },
  {
   "cell_type": "markdown",
   "metadata": {},
   "source": [
    "### USO"
   ]
  },
  {
   "cell_type": "markdown",
   "metadata": {},
   "source": [
    "### Librerias\n",
    "\n",
    "en esta parte se importan las librerias a utilizar en el desarrollo del código, en este caso se trabajara con la libreria numpy para para las operaciones matematicas y skfuzzy que nos permitira utilizar algoritmos diseñados para lógica difusa."
   ]
  },
  {
   "cell_type": "code",
   "execution_count": 258,
   "metadata": {},
   "outputs": [],
   "source": [
    "import numpy as np\n",
    "import skfuzzy as fuzz\n",
    "from skfuzzy import control as ctrl"
   ]
  },
  {
   "cell_type": "markdown",
   "metadata": {},
   "source": [
    "### Antecedentes y Consecuentes\n",
    "\n",
    "Se defines cuales van a ser las entradas y salidas del sistema, indicando mediante un rango el universo de datos de cada una."
   ]
  },
  {
   "cell_type": "code",
   "execution_count": 259,
   "metadata": {},
   "outputs": [],
   "source": [
    "H_recomendado = ctrl.Antecedent (np.arange (0,11,1), 'H_recomendado')\n",
    "C_promocion = ctrl.Antecedent (np.arange (0,11,1), 'C_promocion')\n",
    "D_recomendado = ctrl.Antecedent (np.arange (0,11,1), 'D_recomendado')\n",
    "C_hotel = ctrl.Antecedent (np.arange (0,11,1), 'C_hotel')\n",
    "satisfaccion = ctrl.Consequent (np.arange (0,100,1), 'satisfaccion')\n",
    "recomendacion = ctrl.Consequent (np.arange (0,100,1), 'recomendacion')"
   ]
  },
  {
   "cell_type": "markdown",
   "metadata": {},
   "source": [
    "### Definir el número de terminos que llevara cada variable difusa\n",
    "\n",
    "Dependiendo de la variable, esta puede tener diferentes terminos que la compongan, generalmente estos rangos se encuentran entre 3,5 y 7... en esta ocasión, se asignara el número 3 para la cantidad de terminos a utilizar."
   ]
  },
  {
   "cell_type": "code",
   "execution_count": 260,
   "metadata": {},
   "outputs": [],
   "source": [
    "H_recomendado.automf(3)\n",
    "C_promocion.automf(3)\n",
    "D_recomendado.automf(3)\n",
    "C_hotel.automf(3)"
   ]
  },
  {
   "cell_type": "markdown",
   "metadata": {},
   "source": [
    "### Definir las variables de membresia personalizadas\n",
    "\n",
    "Parametrizar las variables de membresia según las mediciones que se quieran definir, dependiendo del valor máximo predeterminado anteriormente, cada variable debera tener el rango de medición según el universo establecido"
   ]
  },
  {
   "cell_type": "code",
   "execution_count": 261,
   "metadata": {},
   "outputs": [],
   "source": [
    "satisfaccion ['low'] = fuzz.trimf(satisfaccion.universe, [0,0,50])\n",
    "satisfaccion ['medium'] = fuzz.trimf(satisfaccion.universe, [0,50,100])\n",
    "satisfaccion ['high'] = fuzz.trimf(satisfaccion.universe, [50,100,100])\n",
    "recomendacion ['low'] = fuzz.trimf(recomendacion.universe, [0,0,50])\n",
    "recomendacion ['medium'] = fuzz.trimf(recomendacion.universe, [0,50,100])\n",
    "recomendacion ['high'] = fuzz.trimf(recomendacion.universe, [50,100,100])"
   ]
  },
  {
   "cell_type": "markdown",
   "metadata": {},
   "source": [
    "### Reglas\n",
    "\n",
    "se parametrizan las reglas según se definio la funcionalidad del sistema"
   ]
  },
  {
   "cell_type": "code",
   "execution_count": 262,
   "metadata": {},
   "outputs": [],
   "source": [
    "rule1 = ctrl.Rule(H_recomendado['poor'] | C_promocion['poor'], satisfaccion['low'])\n",
    "rule2 = ctrl.Rule(H_recomendado['average'], satisfaccion['medium'])\n",
    "rule3 = ctrl.Rule(H_recomendado['good'] | C_promocion['good'], satisfaccion['high'])\n",
    "rule4 = ctrl.Rule(D_recomendado['poor'] | C_hotel['poor'], recomendacion['low'])\n",
    "rule5 = ctrl.Rule(D_recomendado['average'], recomendacion['medium'])\n",
    "rule6 = ctrl.Rule(D_recomendado['good'] | C_hotel['good'], recomendacion['high'])"
   ]
  },
  {
   "cell_type": "markdown",
   "metadata": {},
   "source": [
    "### Sistema de control\n",
    "\n",
    "luego de tener las reglas definidas se crean sistemas de controles para ejecutar las pruebas y obtener los resultados que nos arrojara el sistema, esto se hara mediante un sistema de simulación que se creara con la instrucción ControlSystemSimulation."
   ]
  },
  {
   "cell_type": "code",
   "execution_count": 263,
   "metadata": {},
   "outputs": [],
   "source": [
    "satisfaction_ctrl = ctrl.ControlSystem([rule1, rule2, rule3])\n",
    "recomendation_ctrl = ctrl.ControlSystem([rule4,rule5,rule6])"
   ]
  },
  {
   "cell_type": "code",
   "execution_count": 264,
   "metadata": {},
   "outputs": [],
   "source": [
    "satisfaction = ctrl.ControlSystemSimulation(satisfaction_ctrl)\n",
    "recomendation = ctrl.ControlSystemSimulation(recomendation_ctrl)"
   ]
  },
  {
   "cell_type": "markdown",
   "metadata": {},
   "source": [
    "### Simulación asignando valores\n",
    "\n",
    "Simulación del sistema de control asignado valores de entrada y llamando al metodo compute para calcular la salida."
   ]
  },
  {
   "cell_type": "code",
   "execution_count": 268,
   "metadata": {},
   "outputs": [],
   "source": [
    "satisfaction.input['H_recomendado'] = 1.4\n",
    "satisfaction.input['C_promocion'] = 2.3\n",
    "recomendation.input['D_recomendado'] = 9.8\n",
    "recomendation.input['C_hotel'] = 9.8"
   ]
  },
  {
   "cell_type": "code",
   "execution_count": 269,
   "metadata": {},
   "outputs": [],
   "source": [
    "satisfaction.compute()\n",
    "recomendation.compute()"
   ]
  },
  {
   "cell_type": "markdown",
   "metadata": {},
   "source": [
    "### Visualización\n",
    "\n",
    "una vez se calcula se puede apreciar el resultado y mirar una gráfica respectiva para cada uno, estos resultados dependeran de las valores que se asignen a las variables y las reglas definidas."
   ]
  },
  {
   "cell_type": "code",
   "execution_count": 270,
   "metadata": {},
   "outputs": [
    {
     "name": "stdout",
     "output_type": "stream",
     "text": [
      "36.68719056620752\n",
      "78.3015384615385\n"
     ]
    },
    {
     "name": "stderr",
     "output_type": "stream",
     "text": [
      "C:\\Users\\Esteban\\Anaconda3\\lib\\site-packages\\matplotlib\\figure.py:459: UserWarning: matplotlib is currently using a non-GUI backend, so cannot show the figure\n",
      "  \"matplotlib is currently using a non-GUI backend, \"\n"
     ]
    },
    {
     "data": {
      "image/png": "[encoded data removed]",
      "text/plain": [
       "<Figure size 432x288 with 1 Axes>"
      ]
     },
     "metadata": {},
     "output_type": "display_data"
    },
    {
     "data": {
      "image/png": "[encoded data removed]",
      "text/plain": [
       "<Figure size 432x288 with 1 Axes>"
      ]
     },
     "metadata": {},
     "output_type": "display_data"
    }
   ],
   "source": [
    "print (satisfaction.output['satisfaccion'])\n",
    "satisfaccion.view(sim=satisfaction)\n",
    "\n",
    "print (recomendation.output['recomendacion'])\n",
    "recomendacion.view(sim=recomendation)"
   ]
  },
  {
   "cell_type": "markdown",
   "metadata": {},
   "source": [
    "### Resultados\n",
    "\n",
    "como se puede apreciar en las gráficas, según los valores que se le asignaron a las variables el grado de satisfacción fue bajo debido a que tanto el hotel recomendado, como la comida en promoción fueron calificados con valores bajos dentro del universo establecido. Se puede observar que el sistema nos arroja un resultado de satisfacción del 36.6%\n",
    "\n",
    "por otro lado, a la salida de recomendación se le asignaron valores altos, podemos observar en la gráfica como el sistema muestra que la recomendación fue alta con un valor de 78.3% de faborabilidad."
   ]
  },
  {
   "cell_type": "code",
   "execution_count": null,
   "metadata": {},
   "outputs": [],
   "source": []
  }
 ],
 "metadata": {
  "kernelspec": {
   "display_name": "Python 3",
   "language": "python",
   "name": "python3"
  },
  "language_info": {
   "codemirror_mode": {
    "name": "ipython",
    "version": 3
   },
   "file_extension": ".py",
   "mimetype": "text/x-python",
   "name": "python",
   "nbconvert_exporter": "python",
   "pygments_lexer": "ipython3",
   "version": "3.6.5"
  }
 },
 "nbformat": 4,
 "nbformat_minor": 2
}
